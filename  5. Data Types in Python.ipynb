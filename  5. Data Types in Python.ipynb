{
 "cells": [
  {
   "cell_type": "markdown",
   "id": "cb8e5fb3",
   "metadata": {},
   "source": [
    "# Data Types"
   ]
  },
  {
   "cell_type": "code",
   "execution_count": 2,
   "id": "1b003d38",
   "metadata": {},
   "outputs": [
    {
     "name": "stdout",
     "output_type": "stream",
     "text": [
      "[1, 2, 3, 4, 5]\n",
      "[10.2, 20.1, 30.3, 40.0, 50.21]\n",
      "['Nitin', 'Datta', 'Rahul', 'Padmaja']\n",
      "[1, 10.2, 'Nitin']\n",
      "<class 'list'>\n"
     ]
    },
    {
     "data": {
      "text/plain": [
       "list"
      ]
     },
     "execution_count": 2,
     "metadata": {},
     "output_type": "execute_result"
    }
   ],
   "source": [
    "\n",
    "list1 = [1,2,3,4,5]\n",
    "list2 = [10.2,20.1,30.3,40.0,50.21]\n",
    "list3 = ['Nitin', 'Datta', 'Rahul', 'Padmaja']\n",
    "list4 = [1,10.2,'Nitin']\n",
    "\n",
    "print(list1)\n",
    "print(list2)\n",
    "print(list3)\n",
    "print(list4)\n",
    "\n",
    "print(type(list1))\n",
    "type(list1)"
   ]
  },
  {
   "cell_type": "code",
   "execution_count": 3,
   "id": "fde61e5c",
   "metadata": {},
   "outputs": [
    {
     "name": "stdout",
     "output_type": "stream",
     "text": [
      "1\n",
      "20.1\n",
      "Nitin\n",
      "[1, 2, 3, 4, 5]\n",
      "[10.2, 20.1, 30.3, 40.0, 50.21]\n",
      "['Nitin', 'Datta', 'Rahul', 'Padmaja']\n",
      "[1, 10.2, 'Nitin']\n",
      "************\n",
      "[1, 2, 3, 4, 5]\n"
     ]
    },
    {
     "data": {
      "text/plain": [
       "2"
      ]
     },
     "execution_count": 3,
     "metadata": {},
     "output_type": "execute_result"
    }
   ],
   "source": [
    "\n",
    "\n",
    "print(list1[0])\n",
    "print(list2[1])\n",
    "print(list3[0])\n",
    "print(list1)\n",
    "print(list2)\n",
    "print(list3)\n",
    "print(list4)\n",
    "\n",
    "print(\"************\")\n",
    "print(list1)\n",
    "list1[1]\n",
    "\n"
   ]
  },
  {
   "cell_type": "markdown",
   "id": "c762a333",
   "metadata": {},
   "source": [
    "# 1. List"
   ]
  },
  {
   "cell_type": "markdown",
   "id": "a3f92720",
   "metadata": {},
   "source": [
    "Lists are used to store multiple items in a single variable."
   ]
  },
  {
   "cell_type": "code",
   "execution_count": 4,
   "id": "c38cac79",
   "metadata": {},
   "outputs": [
    {
     "data": {
      "text/plain": [
       "[10.2, 20.1, 30.3, 40.0, 50.21]"
      ]
     },
     "execution_count": 4,
     "metadata": {},
     "output_type": "execute_result"
    }
   ],
   "source": [
    "list2[0: 10]"
   ]
  },
  {
   "cell_type": "code",
   "execution_count": 5,
   "id": "3588ea3a",
   "metadata": {
    "scrolled": true
   },
   "outputs": [
    {
     "name": "stdout",
     "output_type": "stream",
     "text": [
      "length of list1:\n",
      "5\n"
     ]
    },
    {
     "data": {
      "text/plain": [
       "4"
      ]
     },
     "execution_count": 5,
     "metadata": {},
     "output_type": "execute_result"
    }
   ],
   "source": [
    "print('length of list1:')\n",
    "print(len(list1))\n",
    "\n",
    "\n",
    "len(list3)"
   ]
  },
  {
   "cell_type": "code",
   "execution_count": 6,
   "id": "3f9534da",
   "metadata": {},
   "outputs": [
    {
     "name": "stdout",
     "output_type": "stream",
     "text": [
      "[1, 2, 3, 4, 5]\n",
      "[1, 2, 3, 4, 5, 'sagar']\n"
     ]
    }
   ],
   "source": [
    "\n",
    "\n",
    "print(list1)\n",
    "list1.append(\"sagar\")\n",
    "print(list1)\n",
    "\n"
   ]
  },
  {
   "cell_type": "code",
   "execution_count": 7,
   "id": "4047e970",
   "metadata": {},
   "outputs": [
    {
     "name": "stdout",
     "output_type": "stream",
     "text": [
      "[1, 2, 3, 4, 5, 'sagar']\n",
      "[1, 2, 3, 4, 5]\n"
     ]
    }
   ],
   "source": [
    "print(list1)\n",
    "list1.remove(\"sagar\")\n",
    "print(list1)"
   ]
  },
  {
   "cell_type": "code",
   "execution_count": 8,
   "id": "7b9704c7",
   "metadata": {},
   "outputs": [
    {
     "name": "stdout",
     "output_type": "stream",
     "text": [
      "[1, 2, 3, 4, 5]\n",
      "[1, 2, 4, 5]\n"
     ]
    }
   ],
   "source": [
    "print(list1)\n",
    "list1.remove(3)\n",
    "print(list1)"
   ]
  },
  {
   "cell_type": "code",
   "execution_count": 9,
   "id": "2f3bd529",
   "metadata": {},
   "outputs": [
    {
     "name": "stdout",
     "output_type": "stream",
     "text": [
      "[1, 2, 4, 5]\n",
      "[1, 2, 4, 5, 6]\n"
     ]
    }
   ],
   "source": [
    "print(list1)\n",
    "list1.append(6)\n",
    "print(list1)"
   ]
  },
  {
   "cell_type": "code",
   "execution_count": 10,
   "id": "17bf57d2",
   "metadata": {},
   "outputs": [
    {
     "name": "stdout",
     "output_type": "stream",
     "text": [
      "[1, 2, 4, 5, 6]\n",
      "[1, 2, 'Nitin_1', 'Rahul_1', 6]\n"
     ]
    }
   ],
   "source": [
    "\n",
    "\n",
    "print(list1)\n",
    "list1[2:4] = ['Nitin_1', 'Rahul_1']\n",
    "print(list1)\n",
    "\n"
   ]
  },
  {
   "cell_type": "code",
   "execution_count": 12,
   "id": "595fd1c6",
   "metadata": {},
   "outputs": [
    {
     "name": "stdout",
     "output_type": "stream",
     "text": [
      "5\n",
      "[1, 2, 'Nitin_1', 'Rahul_1', 6]\n"
     ]
    }
   ],
   "source": [
    "print(len(list1))\n",
    "#list1[9] = 'vip'\n",
    "print(list1)"
   ]
  },
  {
   "cell_type": "markdown",
   "id": "4b48b5ae",
   "metadata": {},
   "source": [
    "# 2. Tuple"
   ]
  },
  {
   "cell_type": "markdown",
   "id": "67593ce4",
   "metadata": {},
   "source": [
    "Tuples are used to store multiple items in a single variable."
   ]
  },
  {
   "cell_type": "code",
   "execution_count": 14,
   "id": "5ff9014c",
   "metadata": {},
   "outputs": [
    {
     "name": "stdout",
     "output_type": "stream",
     "text": [
      "('apple', 'apple', 'banana', 'cherry', 'orange', 'kiwi', 'melon', 'mango')\n"
     ]
    }
   ],
   "source": [
    "tup = (\"apple\",'apple', \"banana\", \"cherry\", \"orange\", \"kiwi\", \"melon\", \"mango\")\n",
    "print(tup)"
   ]
  },
  {
   "cell_type": "code",
   "execution_count": 16,
   "id": "cf51addc",
   "metadata": {},
   "outputs": [
    {
     "name": "stdout",
     "output_type": "stream",
     "text": [
      "8\n"
     ]
    },
    {
     "data": {
      "text/plain": [
       "2"
      ]
     },
     "execution_count": 16,
     "metadata": {},
     "output_type": "execute_result"
    }
   ],
   "source": [
    "print(len(tup))\n",
    "tup.count('apple')\n",
    "tup.index('banana')"
   ]
  },
  {
   "cell_type": "code",
   "execution_count": 17,
   "id": "8a14114f",
   "metadata": {},
   "outputs": [
    {
     "name": "stdout",
     "output_type": "stream",
     "text": [
      "<class 'str'>\n",
      "<class 'tuple'>\n"
     ]
    }
   ],
   "source": [
    "tup1 = (\"apple\")\n",
    "print(type(tup1))\n",
    "\n",
    "tup1 = (\"apple\",)\n",
    "print(type(tup1))"
   ]
  },
  {
   "cell_type": "code",
   "execution_count": 18,
   "id": "465f5337",
   "metadata": {},
   "outputs": [
    {
     "name": "stdout",
     "output_type": "stream",
     "text": [
      "('abc', 34, True, 40, 'male')\n"
     ]
    }
   ],
   "source": [
    "tup2 = (\"abc\", 34, True, 40, \"male\")\n",
    "print(tup2)"
   ]
  },
  {
   "cell_type": "code",
   "execution_count": 19,
   "id": "fdb7c7e6",
   "metadata": {},
   "outputs": [
    {
     "name": "stdout",
     "output_type": "stream",
     "text": [
      "(10, 20, 30)\n"
     ]
    }
   ],
   "source": [
    "tup3 = tuple((10,20,30)) # tuple() constructor\n",
    "print(tup3)"
   ]
  },
  {
   "cell_type": "code",
   "execution_count": 20,
   "id": "a37372a2",
   "metadata": {},
   "outputs": [
    {
     "name": "stdout",
     "output_type": "stream",
     "text": [
      "('apple', 'apple', 'banana', 'cherry', 'orange', 'kiwi', 'melon', 'mango')\n"
     ]
    },
    {
     "data": {
      "text/plain": [
       "'melon'"
      ]
     },
     "execution_count": 20,
     "metadata": {},
     "output_type": "execute_result"
    }
   ],
   "source": [
    "print(tup)\n",
    "tup[-2]"
   ]
  },
  {
   "cell_type": "code",
   "execution_count": 21,
   "id": "db046742",
   "metadata": {},
   "outputs": [
    {
     "name": "stdout",
     "output_type": "stream",
     "text": [
      "('apple', 'apple', 'banana', 'cherry', 'orange', 'kiwi', 'melon', 'mango')\n",
      "<class 'tuple'>\n",
      "['apple', 'apple', 'banana', 'cherry', 'orange', 'kiwi', 'melon', 'mango']\n",
      "<class 'list'>\n",
      "['apple', 'apple', 'potato', 'cherry', 'orange', 'kiwi', 'melon', 'mango']\n",
      "('apple', 'apple', 'potato', 'cherry', 'orange', 'kiwi', 'melon', 'mango')\n"
     ]
    }
   ],
   "source": [
    "# change tuple value using list\n",
    "# Do here\n",
    "print(tup)\n",
    "print(type(tup))\n",
    "var = list(tup)\n",
    "print(var)\n",
    "print(type(var))\n",
    "\n",
    "# change value\n",
    "\n",
    "var[2] = 'potato'\n",
    "print(var)\n",
    "\n",
    "# convert back to tuple\n",
    "\n",
    "tup = tuple(var)\n",
    "print(tup)"
   ]
  },
  {
   "cell_type": "code",
   "execution_count": 22,
   "id": "723f06ed",
   "metadata": {},
   "outputs": [
    {
     "name": "stdout",
     "output_type": "stream",
     "text": [
      "apple\n",
      "banana\n",
      "['cherry', 'strawberry', 'raspberry']\n"
     ]
    }
   ],
   "source": [
    "# Use of asterisk\n",
    "fruits = (\"apple\", \"banana\", \"cherry\", \"strawberry\", \"raspberry\")\n",
    "\n",
    "(green, yellow, *red) = fruits\n",
    "\n",
    "print(green)\n",
    "print(yellow)\n",
    "print(red)"
   ]
  },
  {
   "cell_type": "code",
   "execution_count": 23,
   "id": "aeb94ea1",
   "metadata": {},
   "outputs": [
    {
     "name": "stdout",
     "output_type": "stream",
     "text": [
      "apple\n",
      "['mango', 'papaya', 'pineapple']\n",
      "cherry\n"
     ]
    }
   ],
   "source": [
    "fruits = (\"apple\", \"mango\", \"papaya\", \"pineapple\", \"cherry\")\n",
    "\n",
    "(green, *tropic, red) = fruits\n",
    "\n",
    "print(green)\n",
    "print(tropic)\n",
    "print(red)"
   ]
  },
  {
   "cell_type": "code",
   "execution_count": 24,
   "id": "ee7b84b4",
   "metadata": {},
   "outputs": [
    {
     "name": "stdout",
     "output_type": "stream",
     "text": [
      "('apple', 'apple', 'potato', 'cherry', 'orange', 'kiwi', 'melon', 'mango')\n",
      "0\n",
      "('apple', 'apple', 'potato', 'cherry', 'orange', 'kiwi', 'melon', 'mango')\n",
      "2\n"
     ]
    }
   ],
   "source": [
    "# Methods: count() and index()\n",
    "print(tup)\n",
    "cnt = tup.count('tomato')\n",
    "print(cnt)\n",
    "\n",
    "print(tup)\n",
    "ind = tup.index('potato')\n",
    "print(ind)"
   ]
  },
  {
   "cell_type": "markdown",
   "id": "2cd26a63",
   "metadata": {},
   "source": [
    "# 3.Set"
   ]
  },
  {
   "cell_type": "code",
   "execution_count": 26,
   "id": "6cb38938",
   "metadata": {},
   "outputs": [
    {
     "name": "stdout",
     "output_type": "stream",
     "text": [
      "{1, 2, 3, 'nitin', 'sagar', 'cherry'}\n",
      "<class 'set'>\n",
      "6\n"
     ]
    }
   ],
   "source": [
    "s = {1,2,3,'sagar', 'nitin', 'cherry'}\n",
    "print(s)\n",
    "print(type(s))\n",
    "\n",
    "\n",
    "print(len(s))\n",
    "\n"
   ]
  },
  {
   "cell_type": "code",
   "execution_count": 27,
   "id": "30dc311d",
   "metadata": {},
   "outputs": [
    {
     "name": "stdout",
     "output_type": "stream",
     "text": [
      "{'banana', 'cherry', 'apple'}\n",
      "<class 'set'>\n"
     ]
    }
   ],
   "source": [
    "# set() constructor\n",
    "set1 = set((\"apple\", \"banana\", \"cherry\"))\n",
    "print(set1)\n",
    "print(type(set1))"
   ]
  },
  {
   "cell_type": "code",
   "execution_count": 28,
   "id": "83cf3886",
   "metadata": {},
   "outputs": [
    {
     "name": "stdout",
     "output_type": "stream",
     "text": [
      "False\n",
      "True\n"
     ]
    }
   ],
   "source": [
    "\n",
    "\n",
    "# accessing set\n",
    "val= \"banana\" in s\n",
    "\n",
    "print(val)\n",
    "\n",
    "print(1 in s)\n",
    "\n"
   ]
  },
  {
   "cell_type": "code",
   "execution_count": 29,
   "id": "138dcf6d",
   "metadata": {},
   "outputs": [
    {
     "name": "stdout",
     "output_type": "stream",
     "text": [
      "{'banana', 'cherry', 'apple'}\n",
      "{'banana', 'cherry', 'orange', 'apple'}\n"
     ]
    }
   ],
   "source": [
    "\n",
    "\n",
    "# once set is created u can not change elements value, \n",
    "# but u can add values\n",
    "print(set1)\n",
    "set1.add('orange')\n",
    "print(set1)\n",
    "\n"
   ]
  },
  {
   "cell_type": "code",
   "execution_count": 30,
   "id": "3084b30d",
   "metadata": {},
   "outputs": [
    {
     "name": "stdout",
     "output_type": "stream",
     "text": [
      "{'apple', 'mango', 'papaya', 'orange', 'pineapple', 'cherry', 'banana'}\n",
      "{1, 2, 'mango', 3, 'orange', 'apple', 'cherry', 'banana', 'papaya', 'pineapple'}\n"
     ]
    }
   ],
   "source": [
    "# using update you can add any iterable items like set, list,tuple, dict-keys\n",
    "set2 = {\"pineapple\", \"mango\", \"papaya\"}\n",
    "#dict1 = {'a': 97}\n",
    "tup = (1,2,3)\n",
    "\n",
    "set1.update(set2)\n",
    "print(set1)\n",
    "set1.update(tup)\n",
    "\n",
    "print(set1)"
   ]
  },
  {
   "cell_type": "code",
   "execution_count": 31,
   "id": "3315039a",
   "metadata": {},
   "outputs": [
    {
     "name": "stdout",
     "output_type": "stream",
     "text": [
      "Remove using remove():\n",
      " {1, 2, 'mango', 3, 'orange', 'apple', 'cherry', 'banana', 'papaya', 'pineapple'}\n",
      "{1, 2, 'mango', 3, 'orange', 'apple', 'cherry', 'banana', 'papaya', 'pineapple'}\n",
      "Remove using discard():\n",
      " {1, 2, 'mango', 3, 'orange', 'apple', 'cherry', 'banana', 'papaya', 'pineapple'}\n",
      "{1, 'mango', 3, 'orange', 'apple', 'cherry', 'banana', 'papaya', 'pineapple'}\n",
      "Remove using pop():\n",
      " {1, 'mango', 3, 'orange', 'apple', 'cherry', 'banana', 'papaya', 'pineapple'}\n",
      "{'mango', 3, 'orange', 'apple', 'cherry', 'banana', 'papaya', 'pineapple'}\n",
      "1\n"
     ]
    }
   ],
   "source": [
    "\n",
    "\n",
    "# remove(), discard(), pop()\n",
    "print(\"Remove using remove():\\n\",set1)\n",
    "#set1.remove('banana')\n",
    "print(set1)\n",
    "\n",
    "print(\"Remove using discard():\\n\",set1)\n",
    "set1.discard(2)\n",
    "print(set1)\n",
    "\n",
    "print(\"Remove using pop():\\n\",set1)\n",
    "res = set1.pop()\n",
    "print(set1)\n",
    "print(res)\n",
    "\n"
   ]
  },
  {
   "cell_type": "code",
   "execution_count": 32,
   "id": "d7707ebc",
   "metadata": {},
   "outputs": [
    {
     "name": "stdout",
     "output_type": "stream",
     "text": [
      "{1, 2, 3, 'nitin', 'sagar', 'cherry'}\n",
      "\n",
      "{1, 2, 3, 'mango', 'papaya', 'nitin', 'sagar', 'orange', 'apple', 'pineapple', 'cherry', 'banana'}\n"
     ]
    }
   ],
   "source": [
    "# union\n",
    "\n",
    "# adds elements of two sets and create new set\n",
    "\n",
    "print(s)\n",
    "print()\n",
    "s1 = s.union(set1)\n",
    "print(s1)\n",
    "\n",
    "# update method word for union only but adds element to calling set"
   ]
  },
  {
   "cell_type": "code",
   "execution_count": 33,
   "id": "ba398725",
   "metadata": {},
   "outputs": [
    {
     "name": "stdout",
     "output_type": "stream",
     "text": [
      "{1, 2, 3, 'nitin', 'sagar', 'cherry'}\n",
      "{'mango', 3, 'orange', 'apple', 'cherry', 'banana', 'papaya', 'pineapple'}\n",
      "itersection:\n",
      " {'cherry', 3}\n",
      "itersection Update:\n",
      " {'cherry', 3}\n"
     ]
    }
   ],
   "source": [
    "\n",
    "\n",
    "#\n",
    "print(s)\n",
    "print(set1)\n",
    "intr = s.intersection(set1)\n",
    "print(\"itersection:\\n\",intr)\n",
    "\n",
    "# keeps duplicates in s1 \n",
    "s.intersection_update(set1)\n",
    "print(\"itersection Update:\\n\",s)\n",
    "\n"
   ]
  },
  {
   "cell_type": "code",
   "execution_count": 34,
   "id": "08d7dd88",
   "metadata": {},
   "outputs": [
    {
     "name": "stdout",
     "output_type": "stream",
     "text": [
      "{'cherry', 3}\n",
      "{'mango', 3, 'orange', 'apple', 'cherry', 'banana', 'papaya', 'pineapple'}\n",
      "{'cherry', 3}\n",
      "Symmetric Difference:\n",
      "\n",
      "Symmetric difference:\n",
      " {1, 2, 4, 6, 7, 8, 9}\n",
      "difference:\n",
      " {1, 2, 4, 6}\n"
     ]
    }
   ],
   "source": [
    "# keeps elements which are not present in other set\n",
    "s_1 ={1,2,3,4,5,6}\n",
    "s_2 = {3,5,7,8,9}\n",
    "\n",
    "print(s)\n",
    "print(set1)\n",
    "#s.symmetric_difference_update(set1)\n",
    "\n",
    "print(s) \n",
    "\n",
    "\n",
    "# returns new set\n",
    "\n",
    "print(\"Symmetric Difference:\\n\")\n",
    "\n",
    "k = s_1.symmetric_difference(s_2) \n",
    "# return elements which are present in s_1 not in s_2 + present in s_2 but not in s_1\n",
    "v = s_1.difference(s_2) \n",
    "# returns new set with elements present in s_1 but not in s_2\n",
    "print(\"Symmetric difference:\\n\",k)\n",
    "print(\"difference:\\n\",v) "
   ]
  },
  {
   "cell_type": "markdown",
   "id": "1b37a5c7",
   "metadata": {},
   "source": [
    "# frozenset"
   ]
  },
  {
   "cell_type": "code",
   "execution_count": 35,
   "id": "3a06370a",
   "metadata": {},
   "outputs": [
    {
     "name": "stdout",
     "output_type": "stream",
     "text": [
      "<class 'set'>\n",
      "frozenset({'mango', 3, 'papaya', 'orange', 'apple', 'pineapple', 'cherry', 'banana'})\n",
      "<class 'frozenset'>\n",
      "frozenset({'mango', 3, 'papaya', 'orange', 'apple', 'pineapple', 'cherry', 'banana'})\n",
      "<class 'frozenset'>\n"
     ]
    }
   ],
   "source": [
    "# frozen set is same as set but it is immutable\n",
    "\n",
    "print(type(set1))\n",
    "s = frozenset(set1)\n",
    "print(s)\n",
    "print(type(s))\n",
    "# supported methods for frozen set\n",
    "\n",
    "s1 = s.copy()\n",
    "'''\n",
    "s.difference()\n",
    "s.intersection()\n",
    "s.isdisjoint()\n",
    "s.issubset()\n",
    "s.issuperset()\n",
    "s.symmetric_difference()\n",
    "s.union()\n",
    "'''\n",
    "print(s1)\n",
    "print(type(s1))"
   ]
  },
  {
   "cell_type": "markdown",
   "id": "978ee35a",
   "metadata": {},
   "source": [
    "# Dictionary"
   ]
  },
  {
   "cell_type": "code",
   "execution_count": 36,
   "id": "3fcef216",
   "metadata": {},
   "outputs": [
    {
     "name": "stdout",
     "output_type": "stream",
     "text": [
      "{1: 'a', 2: 'b', 3: 'c'}\n",
      "<class 'dict'>\n"
     ]
    }
   ],
   "source": [
    "d = {\n",
    "    1: 'a',\n",
    "    2: 'b',\n",
    "    3: 'c'   \n",
    "    }\n",
    "\n",
    "dict1 = {\n",
    "    'name' : 'Nitn',\n",
    "    'mobile' : 9975923975,\n",
    "    'address' : 'sangola',\n",
    "    'job' : 'Data',\n",
    "    'salary' : 550000.20,\n",
    "    1 : 10000\n",
    "    \n",
    "}\n",
    "print(d)\n",
    "\n",
    "print(type(dict1))"
   ]
  },
  {
   "cell_type": "code",
   "execution_count": 37,
   "id": "3f016b5d",
   "metadata": {},
   "outputs": [
    {
     "name": "stdout",
     "output_type": "stream",
     "text": [
      "Nitn\n",
      "{1: 'a', 2: 'b', 3: 'c'}\n"
     ]
    },
    {
     "data": {
      "text/plain": [
       "'c'"
      ]
     },
     "execution_count": 37,
     "metadata": {},
     "output_type": "execute_result"
    }
   ],
   "source": [
    "\n",
    "\n",
    "print(dict1['name'])\n",
    "dict1['mobile']\n",
    "dict1['job']\n",
    "print(d)\n",
    "d[3]\n",
    "\n"
   ]
  },
  {
   "cell_type": "code",
   "execution_count": 38,
   "id": "3b0bc287",
   "metadata": {},
   "outputs": [
    {
     "name": "stdout",
     "output_type": "stream",
     "text": [
      "550000.2\n",
      "Data\n",
      "b\n",
      "c\n"
     ]
    }
   ],
   "source": [
    "\n",
    "\n",
    "# accesing elemnts\n",
    "\n",
    "print(dict1['salary'])\n",
    "\n",
    "s = dict1.get('job')\n",
    "print(s)\n",
    "dict1['address']\n",
    "dict1.get('salary')\n",
    "\n",
    "\n",
    "print(d[2])\n",
    "r = d.get(3)\n",
    "print(r)\n",
    "\n"
   ]
  },
  {
   "cell_type": "code",
   "execution_count": 39,
   "id": "f993b891",
   "metadata": {},
   "outputs": [
    {
     "name": "stdout",
     "output_type": "stream",
     "text": [
      "dict_keys(['name', 'mobile', 'address', 'job', 'salary', 1])\n"
     ]
    },
    {
     "data": {
      "text/plain": [
       "dict_values(['a', 'b', 'c'])"
      ]
     },
     "execution_count": 39,
     "metadata": {},
     "output_type": "execute_result"
    }
   ],
   "source": [
    "\n",
    "\n",
    "print(dict1.keys())\n",
    "dict1.values()\n",
    "\n",
    "d.keys()\n",
    "d.values()\n",
    "\n"
   ]
  },
  {
   "cell_type": "code",
   "execution_count": 40,
   "id": "8cbdba06",
   "metadata": {},
   "outputs": [
    {
     "name": "stdout",
     "output_type": "stream",
     "text": [
      "dict_keys(['name', 'mobile', 'address', 'job', 'salary', 1, 'c_address', 'alt_mo'])\n",
      "dict_values(['Nitn', 9975923975, 'sangola', 'Data', 550000.2, 10000, 'Pune', 7778778899])\n",
      "dict_keys(['name', 'mobile', 'address', 'job', 'salary', 1, 'c_address', 'alt_mo', 'email'])\n",
      "dict_values(['Nitn', 9975923975, 'sangola', 'Data', 550000.2, 10000, 'Pune', 7778778899, 'nitin@gmail.com'])\n",
      "{1: 'a', 2: 'b', 3: 'c', 4: 'd'}\n"
     ]
    }
   ],
   "source": [
    "\n",
    "\n",
    "# add new item\n",
    "dict1['c_address'] = 'Pune'\n",
    "\n",
    "\n",
    "dict1['alt_mo'] = 7778778899\n",
    "print(dict1.keys())\n",
    "print(dict1.values())\n",
    "\n",
    "\n",
    "\n",
    "dict1['email'] = 'nitin@gmail.com'\n",
    "print(dict1.keys())\n",
    "print(dict1.values())\n",
    "\n",
    "d[4] = 'd'\n",
    "\n",
    "print(d)\n",
    "\n"
   ]
  },
  {
   "cell_type": "code",
   "execution_count": 41,
   "id": "62727981",
   "metadata": {},
   "outputs": [
    {
     "name": "stdout",
     "output_type": "stream",
     "text": [
      "dict_values(['Nitn', 9975923975, 'sangola', 'Data', 550000.2, 10000, 'Pune', 7778778899, 'nitin@gmail.com'])\n"
     ]
    }
   ],
   "source": [
    "# values\n",
    "print(dict1.values())"
   ]
  },
  {
   "cell_type": "code",
   "execution_count": 42,
   "id": "8addfece",
   "metadata": {},
   "outputs": [
    {
     "name": "stdout",
     "output_type": "stream",
     "text": [
      "{1: 'a', 2: 'b', 3: 'c', 4: 'd'}\n"
     ]
    },
    {
     "data": {
      "text/plain": [
       "dict_items([(1, 'a'), (2, 'b'), (3, 'c'), (4, 'd')])"
      ]
     },
     "execution_count": 42,
     "metadata": {},
     "output_type": "execute_result"
    }
   ],
   "source": [
    "dict1.items()\n",
    "print(d)\n",
    "d.items()"
   ]
  },
  {
   "cell_type": "code",
   "execution_count": 43,
   "id": "a90dd804",
   "metadata": {},
   "outputs": [
    {
     "name": "stdout",
     "output_type": "stream",
     "text": [
      "{1: 'a', 2: 'b', 3: 'c', 4: 'd'}\n"
     ]
    },
    {
     "data": {
      "text/plain": [
       "dict_values(['a', 'b', 'cc', 'd'])"
      ]
     },
     "execution_count": 43,
     "metadata": {},
     "output_type": "execute_result"
    }
   ],
   "source": [
    "# change value\n",
    "#print(dict1)\n",
    "dict1['height'] = 180\n",
    "#print(dict1)\n",
    "\n",
    "print(d)\n",
    "d[3] = 'cc'\n",
    "d.values()"
   ]
  },
  {
   "cell_type": "code",
   "execution_count": 44,
   "id": "028d309b",
   "metadata": {},
   "outputs": [
    {
     "name": "stdout",
     "output_type": "stream",
     "text": [
      "{'f_key': {'p_key': {'s_key': {'g_name': 'Grand_son_name'}, 's_name': 'Son_name'}, 'p_name': 'Parent_name'}}\n"
     ]
    }
   ],
   "source": [
    "grandson = {\n",
    "    'g_name':'Grand_son_name'\n",
    "}\n",
    "son = {\n",
    "     's_key' : grandson,\n",
    "    's_name': 'Son_name',\n",
    "}\n",
    "\n",
    "\n",
    "parent = {\n",
    "    'p_key' : son,\n",
    "    'p_name': 'Parent_name',\n",
    "    \n",
    "         }\n",
    "\n",
    "\n",
    "family = {\n",
    "    'f_key' : parent, \n",
    "}\n",
    "\n",
    "print(family)"
   ]
  },
  {
   "cell_type": "code",
   "execution_count": 45,
   "id": "f4fa41a8",
   "metadata": {},
   "outputs": [
    {
     "data": {
      "text/plain": [
       "{'p_key': {'s_key': {'g_name': 'Grand_son_name'}, 's_name': 'Son_name'},\n",
       " 'p_name': 'Parent_name'}"
      ]
     },
     "execution_count": 45,
     "metadata": {},
     "output_type": "execute_result"
    }
   ],
   "source": [
    "\n",
    "\n",
    "# access parent directory\n",
    "family['f_key']\n",
    "\n"
   ]
  },
  {
   "cell_type": "code",
   "execution_count": 46,
   "id": "69ce50da",
   "metadata": {},
   "outputs": [
    {
     "data": {
      "text/plain": [
       "{'g_name': 'Grand_son_name'}"
      ]
     },
     "execution_count": 46,
     "metadata": {},
     "output_type": "execute_result"
    }
   ],
   "source": [
    "# access grand child\n",
    "family['f_key']['p_key']['s_key']"
   ]
  },
  {
   "cell_type": "code",
   "execution_count": 47,
   "id": "7804707b",
   "metadata": {},
   "outputs": [
    {
     "data": {
      "text/plain": [
       "'Grand_son_name'"
      ]
     },
     "execution_count": 47,
     "metadata": {},
     "output_type": "execute_result"
    }
   ],
   "source": [
    "family['f_key']['p_key']['s_key']['g_name']\n",
    "\n"
   ]
  },
  {
   "cell_type": "code",
   "execution_count": null,
   "id": "ff23846e",
   "metadata": {},
   "outputs": [],
   "source": []
  }
 ],
 "metadata": {
  "kernelspec": {
   "display_name": "Python 3 (ipykernel)",
   "language": "python",
   "name": "python3"
  },
  "language_info": {
   "codemirror_mode": {
    "name": "ipython",
    "version": 3
   },
   "file_extension": ".py",
   "mimetype": "text/x-python",
   "name": "python",
   "nbconvert_exporter": "python",
   "pygments_lexer": "ipython3",
   "version": "3.9.7"
  }
 },
 "nbformat": 4,
 "nbformat_minor": 5
}
