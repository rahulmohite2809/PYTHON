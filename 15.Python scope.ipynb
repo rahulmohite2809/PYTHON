{
 "cells": [
  {
   "cell_type": "markdown",
   "id": "5c274f08",
   "metadata": {},
   "source": [
    "# Python scope\n"
   ]
  },
  {
   "cell_type": "markdown",
   "id": "31e750a9",
   "metadata": {},
   "source": [
    "Local Scope"
   ]
  },
  {
   "cell_type": "code",
   "execution_count": 1,
   "id": "ddc565b5",
   "metadata": {},
   "outputs": [
    {
     "name": "stdout",
     "output_type": "stream",
     "text": [
      "300\n"
     ]
    }
   ],
   "source": [
    "#A variable created inside a function is available inside that function:\n",
    "def myfunc():\n",
    "  x = 300\n",
    "  print(x)\n",
    "\n",
    "myfunc() "
   ]
  },
  {
   "cell_type": "code",
   "execution_count": 10,
   "id": "c6ae19d2",
   "metadata": {},
   "outputs": [
    {
     "name": "stdout",
     "output_type": "stream",
     "text": [
      "300\n"
     ]
    }
   ],
   "source": [
    "#The local variable can be accessed from a function within the function:\n",
    "\n",
    "def my():\n",
    "    x=300\n",
    "    def imy():\n",
    "        print(x)\n",
    "    imy() \n",
    "        \n",
    "my()    "
   ]
  },
  {
   "cell_type": "markdown",
   "id": "d456c92c",
   "metadata": {},
   "source": [
    "Global scope"
   ]
  },
  {
   "cell_type": "code",
   "execution_count": 11,
   "id": "2908bcf9",
   "metadata": {},
   "outputs": [
    {
     "name": "stdout",
     "output_type": "stream",
     "text": [
      "300\n",
      "300\n"
     ]
    }
   ],
   "source": [
    "#A variable created outside of a function is global and can be used by anyone:\n",
    "x = 300\n",
    "\n",
    "def myfunc():\n",
    "  print(x)\n",
    "\n",
    "myfunc()\n",
    "\n",
    "print(x) "
   ]
  },
  {
   "cell_type": "code",
   "execution_count": 12,
   "id": "39fed92e",
   "metadata": {},
   "outputs": [
    {
     "name": "stdout",
     "output_type": "stream",
     "text": [
      "200\n",
      "300\n"
     ]
    }
   ],
   "source": [
    "#The function will print the local x, and then the code will print the global x:\n",
    "x = 300\n",
    "\n",
    "def myfunc():\n",
    "  x = 200\n",
    "  print(x)\n",
    "\n",
    "myfunc()\n",
    "\n",
    "print(x) "
   ]
  },
  {
   "cell_type": "markdown",
   "id": "f209f981",
   "metadata": {},
   "source": [
    "Global keyword"
   ]
  },
  {
   "cell_type": "code",
   "execution_count": 13,
   "id": "353d26ea",
   "metadata": {},
   "outputs": [
    {
     "name": "stdout",
     "output_type": "stream",
     "text": [
      "300\n"
     ]
    }
   ],
   "source": [
    "#If you use the global keyword, the variable belongs to the global scope:\n",
    "def myfunc():\n",
    "  global x\n",
    "  x = 300\n",
    "\n",
    "myfunc()\n",
    "\n",
    "print(x) "
   ]
  },
  {
   "cell_type": "code",
   "execution_count": 14,
   "id": "642a07e8",
   "metadata": {},
   "outputs": [
    {
     "name": "stdout",
     "output_type": "stream",
     "text": [
      "200\n"
     ]
    }
   ],
   "source": [
    "#To change the value of a global variable inside a function, refer to the variable by using the global keyword:\n",
    "x = 300\n",
    "\n",
    "def myfunc():\n",
    "  global x\n",
    "  x = 200\n",
    "\n",
    "myfunc()\n",
    "\n",
    "print(x) "
   ]
  },
  {
   "cell_type": "code",
   "execution_count": null,
   "id": "77b2c08d",
   "metadata": {},
   "outputs": [],
   "source": []
  }
 ],
 "metadata": {
  "kernelspec": {
   "display_name": "Python 3 (ipykernel)",
   "language": "python",
   "name": "python3"
  },
  "language_info": {
   "codemirror_mode": {
    "name": "ipython",
    "version": 3
   },
   "file_extension": ".py",
   "mimetype": "text/x-python",
   "name": "python",
   "nbconvert_exporter": "python",
   "pygments_lexer": "ipython3",
   "version": "3.9.7"
  }
 },
 "nbformat": 4,
 "nbformat_minor": 5
}
