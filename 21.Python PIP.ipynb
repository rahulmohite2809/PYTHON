{
 "cells": [
  {
   "cell_type": "markdown",
   "id": "f67921e4",
   "metadata": {},
   "source": [
    "# Python PIP"
   ]
  },
  {
   "cell_type": "markdown",
   "id": "79ee65da",
   "metadata": {},
   "source": [
    "What is a Package?\n",
    "\n",
    "A package contains all the files you need for a module.\n",
    "\n",
    "Modules are Python code libraries you can include in your project."
   ]
  },
  {
   "cell_type": "code",
   "execution_count": 3,
   "id": "c031db05",
   "metadata": {},
   "outputs": [
    {
     "name": "stdout",
     "output_type": "stream",
     "text": [
      "Hello World\n"
     ]
    }
   ],
   "source": [
    "\n",
    "#Import and use \"camelcase\":\n",
    "import camelcase\n",
    "\n",
    "c = camelcase.CamelCase()\n",
    "\n",
    "txt = \"hello world\"\n",
    "\n",
    "print(c.hump(txt)) "
   ]
  },
  {
   "cell_type": "markdown",
   "id": "411398e1",
   "metadata": {},
   "source": [
    "Remove a Package\n",
    "\n",
    "Use the uninstall command to remove a package:\n",
    "Example\n",
    "\n",
    "Uninstall the package named \"camelcase\":"
   ]
  },
  {
   "cell_type": "code",
   "execution_count": 4,
   "id": "603f227d",
   "metadata": {},
   "outputs": [],
   "source": [
    "#command\n",
    "#pip uninstall camelcase (wrijte into command prompt)\n",
    "\n"
   ]
  },
  {
   "cell_type": "markdown",
   "id": "6c1e5a36",
   "metadata": {},
   "source": [
    "List Packages\n",
    "\n",
    "Use the list command to list all the packages installed on your system:"
   ]
  },
  {
   "cell_type": "code",
   "execution_count": null,
   "id": "6effe04d",
   "metadata": {},
   "outputs": [],
   "source": [
    "#pip list\n"
   ]
  }
 ],
 "metadata": {
  "kernelspec": {
   "display_name": "Python 3 (ipykernel)",
   "language": "python",
   "name": "python3"
  },
  "language_info": {
   "codemirror_mode": {
    "name": "ipython",
    "version": 3
   },
   "file_extension": ".py",
   "mimetype": "text/x-python",
   "name": "python",
   "nbconvert_exporter": "python",
   "pygments_lexer": "ipython3",
   "version": "3.9.7"
  }
 },
 "nbformat": 4,
 "nbformat_minor": 5
}
