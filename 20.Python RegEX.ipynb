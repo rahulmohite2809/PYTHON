{
 "cells": [
  {
   "cell_type": "markdown",
   "id": "4de19cef",
   "metadata": {},
   "source": [
    "# Python RegEx"
   ]
  },
  {
   "cell_type": "code",
   "execution_count": 17,
   "id": "e66044c3",
   "metadata": {},
   "outputs": [
    {
     "name": "stdout",
     "output_type": "stream",
     "text": [
      "yes\n"
     ]
    }
   ],
   "source": [
    "#When you have imported the re module, you can start using regular expressions:\n",
    "import re\n",
    "\n",
    "txt = \"The rain  Spain in  \"\n",
    "x = re.search(\"rain\", txt) \n",
    "\n",
    "if x :\n",
    "    print(\"yes\")\n",
    "else:\n",
    "    print(\"no\")"
   ]
  },
  {
   "cell_type": "code",
   "execution_count": 18,
   "id": "610e03a5",
   "metadata": {},
   "outputs": [
    {
     "name": "stdout",
     "output_type": "stream",
     "text": [
      "['in', 'in', 'in']\n"
     ]
    }
   ],
   "source": [
    "#the findall() function\n",
    "#The findall() function returns a list containing all matches.\n",
    "x=re.findall(\"in\" ,txt)\n",
    "print(x)"
   ]
  },
  {
   "cell_type": "code",
   "execution_count": 21,
   "id": "831ef8f3",
   "metadata": {},
   "outputs": [
    {
     "name": "stdout",
     "output_type": "stream",
     "text": [
      "The first white-space character is located in position: 3\n"
     ]
    }
   ],
   "source": [
    "#Search for the first white-space character in the string:\n",
    "import re\n",
    "\n",
    "txt = \"The rain in Spain\"\n",
    "x = re.search(\"\\s\", txt)\n",
    "\n",
    "print(\"The first white-space character is located in position:\", x.start()) "
   ]
  },
  {
   "cell_type": "code",
   "execution_count": 22,
   "id": "8e73f936",
   "metadata": {},
   "outputs": [
    {
     "name": "stdout",
     "output_type": "stream",
     "text": [
      "None\n"
     ]
    }
   ],
   "source": [
    "import re\n",
    "\n",
    "txt = \"The rain in Spain\"\n",
    "x = re.search(\"Portugal\", txt)\n",
    "print(x) "
   ]
  },
  {
   "cell_type": "code",
   "execution_count": 33,
   "id": "55fa8cbb",
   "metadata": {},
   "outputs": [
    {
     "name": "stdout",
     "output_type": "stream",
     "text": [
      "['The', 'rain', 'in', 'Spain']\n",
      "['', 'T', 'h', 'e', ' ', 'r', 'a', 'i', 'n', ' ', 'i', 'n', ' ', 'S', 'p', 'a', 'i', 'n', '']\n"
     ]
    }
   ],
   "source": [
    "#Split\n",
    "#Split at each white-space character:\n",
    "import re\n",
    "\n",
    "txt =\"The rain in Spain\"\n",
    "x = re.split(\"\\s\", txt)\n",
    "y=re.split(\"\",txt)\n",
    "print(x)\n",
    "print(y)"
   ]
  },
  {
   "cell_type": "code",
   "execution_count": 34,
   "id": "b568a6d2",
   "metadata": {},
   "outputs": [
    {
     "name": "stdout",
     "output_type": "stream",
     "text": [
      "['The', 'rain in Spain']\n"
     ]
    }
   ],
   "source": [
    "#Split the string only at the first occurrence:\n",
    "import re\n",
    "\n",
    "txt = \"The rain in Spain\"\n",
    "x = re.split(\"\\s\", txt, 1)\n",
    "print(x) "
   ]
  },
  {
   "cell_type": "code",
   "execution_count": 35,
   "id": "c9c11a0c",
   "metadata": {},
   "outputs": [
    {
     "name": "stdout",
     "output_type": "stream",
     "text": [
      "The9rain9in9Spain\n"
     ]
    }
   ],
   "source": [
    "#Replace every white-space character with the number 9:\n",
    "import re\n",
    "\n",
    "txt = \"The rain in Spain\"\n",
    "x = re.sub(\"\\s\", \"9\", txt)\n",
    "print(x) "
   ]
  },
  {
   "cell_type": "code",
   "execution_count": 37,
   "id": "dbbe0cc1",
   "metadata": {},
   "outputs": [
    {
     "name": "stdout",
     "output_type": "stream",
     "text": [
      "The9rain9in Spain\n"
     ]
    }
   ],
   "source": [
    "#Replace the first 2 occurrences:\n",
    "import re\n",
    "\n",
    "txt = \"The rain in Spain\"\n",
    "x = re.sub(\"\\s\", \"9\", txt, 2)\n",
    "print(x)"
   ]
  },
  {
   "cell_type": "code",
   "execution_count": 41,
   "id": "fbf2cc48",
   "metadata": {},
   "outputs": [],
   "source": [
    "#.span() returns a tuple containing the start-, and end positions of the match.\n",
    "#.string returns the string passed into the function\n",
    "#.group() returns the part of the string where there was a match"
   ]
  },
  {
   "cell_type": "code",
   "execution_count": 42,
   "id": "a7079f56",
   "metadata": {},
   "outputs": [
    {
     "name": "stdout",
     "output_type": "stream",
     "text": [
      "(12, 17)\n"
     ]
    }
   ],
   "source": [
    "import re\n",
    "\n",
    "txt = \"The rain in Spain\"\n",
    "x = re.search(r\"\\bS\\w+\", txt)\n",
    "print(x.span()) "
   ]
  },
  {
   "cell_type": "code",
   "execution_count": 39,
   "id": "286d29fc",
   "metadata": {},
   "outputs": [
    {
     "name": "stdout",
     "output_type": "stream",
     "text": [
      "The rain in Spain\n"
     ]
    }
   ],
   "source": [
    "#Print the string passed into the function:\n",
    "import re\n",
    "\n",
    "txt = \"The rain in Spain\"\n",
    "x = re.search(r\"\\bS\\w+\", txt)\n",
    "print(x.string) "
   ]
  },
  {
   "cell_type": "code",
   "execution_count": null,
   "id": "92ae1eba",
   "metadata": {},
   "outputs": [],
   "source": [
    "#group\n",
    "import re\n",
    "\n",
    "txt = \"The rain in Spain\"\n",
    "x = re.search(r\"\\bS\\w+\", txt)\n",
    "print(x.group()) "
   ]
  },
  {
   "cell_type": "code",
   "execution_count": 38,
   "id": "526ea39f",
   "metadata": {},
   "outputs": [
    {
     "name": "stdout",
     "output_type": "stream",
     "text": [
      "<re.Match object; span=(5, 7), match='ai'>\n"
     ]
    }
   ],
   "source": [
    "#Do a search that will return a Match Object:\n",
    "import re\n",
    "\n",
    "txt = \"The rain in Spain\"\n",
    "x = re.search(\"ai\", txt)\n",
    "print(x) "
   ]
  },
  {
   "cell_type": "code",
   "execution_count": null,
   "id": "71d82c0f",
   "metadata": {},
   "outputs": [],
   "source": []
  }
 ],
 "metadata": {
  "kernelspec": {
   "display_name": "Python 3 (ipykernel)",
   "language": "python",
   "name": "python3"
  },
  "language_info": {
   "codemirror_mode": {
    "name": "ipython",
    "version": 3
   },
   "file_extension": ".py",
   "mimetype": "text/x-python",
   "name": "python",
   "nbconvert_exporter": "python",
   "pygments_lexer": "ipython3",
   "version": "3.9.7"
  }
 },
 "nbformat": 4,
 "nbformat_minor": 5
}
