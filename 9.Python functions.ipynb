{
 "cells": [
  {
   "cell_type": "markdown",
   "id": "afaf5984",
   "metadata": {},
   "source": [
    "# Python functions"
   ]
  },
  {
   "cell_type": "code",
   "execution_count": 1,
   "id": "f828dad1",
   "metadata": {},
   "outputs": [
    {
     "name": "stdout",
     "output_type": "stream",
     "text": [
      "be careful\n"
     ]
    }
   ],
   "source": [
    "def vip():\n",
    "    print(\"be careful\")\n",
    "    \n",
    "vip() "
   ]
  },
  {
   "cell_type": "markdown",
   "id": "081748e7",
   "metadata": {},
   "source": [
    "Arguments"
   ]
  },
  {
   "cell_type": "code",
   "execution_count": 2,
   "id": "09a28210",
   "metadata": {},
   "outputs": [
    {
     "name": "stdout",
     "output_type": "stream",
     "text": [
      " Hiii Datta good morning 24\n",
      " Hiii adi good morning 23\n"
     ]
    }
   ],
   "source": [
    "def fun(name, age):\n",
    "    print(\" Hiii \"+name+\" good morning \" + age)\n",
    "    \n",
    "fun(\"Datta\",\"24\") \n",
    "fun(\"adi\",\"23\")\n",
    "    "
   ]
  },
  {
   "cell_type": "markdown",
   "id": "50b7e97c",
   "metadata": {},
   "source": [
    "Arbitrary Arguments, *args"
   ]
  },
  {
   "cell_type": "markdown",
   "id": "e13d8aac",
   "metadata": {},
   "source": [
    "if you do not know how many arguments that will be passed into your function, add a * before the parameter name in the function definition."
   ]
  },
  {
   "cell_type": "code",
   "execution_count": 3,
   "id": "4cd8c644",
   "metadata": {},
   "outputs": [
    {
     "name": "stdout",
     "output_type": "stream",
     "text": [
      " Hiii Datta good morning ok\n"
     ]
    }
   ],
   "source": [
    "def fun(*any):\n",
    "    print(\" Hiii \"+any[0]+\" good morning \" + any[2])\n",
    "    \n",
    "fun(\"Datta\",\"24\", \"ok\") \n"
   ]
  },
  {
   "cell_type": "markdown",
   "id": "44de9e41",
   "metadata": {},
   "source": [
    "Keyword Arguments"
   ]
  },
  {
   "cell_type": "code",
   "execution_count": 5,
   "id": "41745696",
   "metadata": {},
   "outputs": [
    {
     "name": "stdout",
     "output_type": "stream",
     "text": [
      "rahul 21  32\n"
     ]
    }
   ],
   "source": [
    "def fun(name,age,roll):\n",
    "    print(name  + \" \" +age +\" \" +\" \"+ roll)\n",
    "    \n",
    "fun(name=\"rahul\",age=\"21\",roll =\"32\")   "
   ]
  },
  {
   "cell_type": "markdown",
   "id": "a19d73dc",
   "metadata": {},
   "source": [
    "default parameters"
   ]
  },
  {
   "cell_type": "code",
   "execution_count": 7,
   "id": "23955b38",
   "metadata": {},
   "outputs": [
    {
     "name": "stdout",
     "output_type": "stream",
     "text": [
      "I am from Sweden\n",
      "I am from India\n",
      "I am from Norway\n",
      "I am from Bra\n"
     ]
    }
   ],
   "source": [
    "def my_function(country = \"Norway\"):\n",
    "  print(\"I am from \" + country)\n",
    "\n",
    "my_function(\"Sweden\")\n",
    "my_function(\"India\")\n",
    "my_function()\n",
    "my_function(\"Bra\")"
   ]
  },
  {
   "cell_type": "markdown",
   "id": "feb7e59e",
   "metadata": {},
   "source": [
    "Passing a List as an Argument"
   ]
  },
  {
   "cell_type": "code",
   "execution_count": 8,
   "id": "304702c4",
   "metadata": {},
   "outputs": [
    {
     "name": "stdout",
     "output_type": "stream",
     "text": [
      "apple\n",
      "banana\n",
      "cherry\n"
     ]
    }
   ],
   "source": [
    "def my_function(food):\n",
    "  for x in food:\n",
    "    print(x)\n",
    "\n",
    "fruits = [\"apple\", \"banana\", \"cherry\"]\n",
    "\n",
    "my_function(fruits)"
   ]
  },
  {
   "cell_type": "markdown",
   "id": "2bcc2889",
   "metadata": {},
   "source": [
    "Return Values"
   ]
  },
  {
   "cell_type": "code",
   "execution_count": 9,
   "id": "186c5153",
   "metadata": {},
   "outputs": [
    {
     "name": "stdout",
     "output_type": "stream",
     "text": [
      "15\n",
      "25\n",
      "45\n"
     ]
    }
   ],
   "source": [
    "def my_function(x):\n",
    "  return 5 * x\n",
    "\n",
    "print(my_function(3))\n",
    "print(my_function(5))\n",
    "print(my_function(9))"
   ]
  },
  {
   "cell_type": "markdown",
   "id": "c7e98cc8",
   "metadata": {},
   "source": [
    "Recursion\n",
    "\n",
    "Python also accepts function recursion, which means a defined function can call itself."
   ]
  },
  {
   "cell_type": "code",
   "execution_count": 10,
   "id": "96e79654",
   "metadata": {},
   "outputs": [
    {
     "name": "stdout",
     "output_type": "stream",
     "text": [
      "\n",
      "\n",
      "Recursion Example Results\n",
      "1\n",
      "3\n",
      "6\n",
      "10\n",
      "15\n",
      "21\n"
     ]
    },
    {
     "data": {
      "text/plain": [
       "21"
      ]
     },
     "execution_count": 10,
     "metadata": {},
     "output_type": "execute_result"
    }
   ],
   "source": [
    "def tri_recursion(k):\n",
    "  if(k > 0):\n",
    "    result = k + tri_recursion(k - 1)\n",
    "    print(result)\n",
    "  else:\n",
    "    result = 0\n",
    "  return result\n",
    "\n",
    "print(\"\\n\\nRecursion Example Results\")\n",
    "tri_recursion(6)"
   ]
  },
  {
   "cell_type": "code",
   "execution_count": null,
   "id": "a0f9680d",
   "metadata": {},
   "outputs": [],
   "source": []
  }
 ],
 "metadata": {
  "kernelspec": {
   "display_name": "Python 3 (ipykernel)",
   "language": "python",
   "name": "python3"
  },
  "language_info": {
   "codemirror_mode": {
    "name": "ipython",
    "version": 3
   },
   "file_extension": ".py",
   "mimetype": "text/x-python",
   "name": "python",
   "nbconvert_exporter": "python",
   "pygments_lexer": "ipython3",
   "version": "3.9.7"
  }
 },
 "nbformat": 4,
 "nbformat_minor": 5
}
