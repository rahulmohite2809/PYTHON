{
 "cells": [
  {
   "cell_type": "markdown",
   "id": "88394a53",
   "metadata": {},
   "source": [
    "# Python arrays"
   ]
  },
  {
   "cell_type": "markdown",
   "id": "e1b2aca1",
   "metadata": {},
   "source": [
    "Arrays are used to store multiple values in one single variable:"
   ]
  },
  {
   "cell_type": "code",
   "execution_count": 1,
   "id": "5c830e8d",
   "metadata": {},
   "outputs": [
    {
     "name": "stdout",
     "output_type": "stream",
     "text": [
      "['Ford', 'Volvo', 'BMW']\n",
      "['CAS', 'Volvo', 'BMW']\n",
      "3\n"
     ]
    }
   ],
   "source": [
    "cars = [\"Ford\", \"Volvo\", \"BMW\"] \n",
    "#index\n",
    "x = cars\n",
    "print(x)\n",
    "\n",
    "# you can also change the value of an index\n",
    "\n",
    "x = cars[0]=\"CAS\"\n",
    "print(cars)\n",
    "\n",
    "#length\n",
    "x = len(cars)\n",
    "print(x)\n",
    "\n",
    "\n"
   ]
  },
  {
   "cell_type": "markdown",
   "id": "b9cc7bc9",
   "metadata": {},
   "source": [
    "Looping Array Elements"
   ]
  },
  {
   "cell_type": "code",
   "execution_count": 2,
   "id": "10b92b26",
   "metadata": {},
   "outputs": [
    {
     "name": "stdout",
     "output_type": "stream",
     "text": [
      "CAS\n",
      "Volvo\n",
      "BMW\n"
     ]
    }
   ],
   "source": [
    "for x in cars:\n",
    "  print(x) "
   ]
  },
  {
   "cell_type": "code",
   "execution_count": 3,
   "id": "dd0eeff4",
   "metadata": {},
   "outputs": [
    {
     "name": "stdout",
     "output_type": "stream",
     "text": [
      "['Ford', 'Volvo', 'BMW', 'T20']\n"
     ]
    }
   ],
   "source": [
    "#Adding Array Elements: (append)\n",
    "\n",
    "cars = [\"Ford\", \"Volvo\", \"BMW\"] \n",
    "cars.append(\"T20\")\n",
    "print(cars)"
   ]
  },
  {
   "cell_type": "code",
   "execution_count": 5,
   "id": "d1ba932a",
   "metadata": {},
   "outputs": [
    {
     "name": "stdout",
     "output_type": "stream",
     "text": [
      "BMW\n",
      "['Ford', 'T20']\n"
     ]
    }
   ],
   "source": [
    "#Removing Array Elements: pop()\n",
    "\n",
    "x=cars.pop(1)\n",
    "print(x)\n",
    "print(cars)"
   ]
  },
  {
   "cell_type": "code",
   "execution_count": 7,
   "id": "d018207a",
   "metadata": {},
   "outputs": [
    {
     "name": "stdout",
     "output_type": "stream",
     "text": [
      "['Ford', 'Volvo']\n"
     ]
    }
   ],
   "source": [
    "#Deleting Array Elements :remove()\n",
    "cars = [\"Ford\", \"Volvo\", \"BMW\"] \n",
    "cars.remove(\"BMW\")\n",
    "print(cars)\n"
   ]
  },
  {
   "cell_type": "code",
   "execution_count": 10,
   "id": "0d9915bc",
   "metadata": {},
   "outputs": [
    {
     "name": "stdout",
     "output_type": "stream",
     "text": [
      "[]\n"
     ]
    }
   ],
   "source": [
    "#Remove all elements from the fruits list: clear()\n",
    "fruits = ['apple', 'banana', 'cherry', 'orange']\n",
    "\n",
    "fruits.clear()\n",
    "\n",
    "print(fruits)"
   ]
  },
  {
   "cell_type": "code",
   "execution_count": 13,
   "id": "0c32aa45",
   "metadata": {},
   "outputs": [
    {
     "name": "stdout",
     "output_type": "stream",
     "text": [
      "['apple', 'banana', 'cherry', 'orange']\n"
     ]
    }
   ],
   "source": [
    "#Copy the fruits list: copy()\n",
    "fruits = ['apple', 'banana', 'cherry', 'orange']\n",
    "\n",
    "x = fruits.copy()\n",
    "print(x)"
   ]
  },
  {
   "cell_type": "code",
   "execution_count": 15,
   "id": "68e148c2",
   "metadata": {},
   "outputs": [
    {
     "name": "stdout",
     "output_type": "stream",
     "text": [
      "2\n"
     ]
    }
   ],
   "source": [
    "#Return the number of times the value \"cherry\" appears in the fruits list: count()\n",
    "fruits = ['apple', 'banana', 'cherry','cherry']\n",
    "\n",
    "x = fruits.count(\"cherry\")\n",
    "print(x)"
   ]
  },
  {
   "cell_type": "code",
   "execution_count": 17,
   "id": "317246bc",
   "metadata": {},
   "outputs": [
    {
     "name": "stdout",
     "output_type": "stream",
     "text": [
      "2\n"
     ]
    }
   ],
   "source": [
    "#What is the position of the value \"cherry\": index()\n",
    "fruits = ['apple', 'banana', 'cherry']\n",
    "\n",
    "x = fruits.index(\"cherry\") \n",
    "print(x)"
   ]
  },
  {
   "cell_type": "code",
   "execution_count": 22,
   "id": "74a8b76d",
   "metadata": {},
   "outputs": [
    {
     "name": "stdout",
     "output_type": "stream",
     "text": [
      "['apple', 'orange', 'banana', 'cherry']\n"
     ]
    }
   ],
   "source": [
    "#Insert the value \"orange\" as the second element of the fruit list: insert()\n",
    "fruits = ['apple', 'banana', 'cherry']\n",
    "\n",
    "fruits.insert(1, \"orange\")\n",
    "print(fruits)\n"
   ]
  },
  {
   "cell_type": "code",
   "execution_count": 24,
   "id": "99ac25c0",
   "metadata": {},
   "outputs": [
    {
     "name": "stdout",
     "output_type": "stream",
     "text": [
      "['BMW', 'Ford', 'Volvo']\n"
     ]
    }
   ],
   "source": [
    "#Sort the list alphabetically: sort()\n",
    "cars = ['Ford', 'BMW', 'Volvo']\n",
    "\n",
    "cars.sort()\n",
    "\n",
    "print(cars)"
   ]
  },
  {
   "cell_type": "code",
   "execution_count": 25,
   "id": "700f3e18",
   "metadata": {},
   "outputs": [
    {
     "name": "stdout",
     "output_type": "stream",
     "text": [
      "['cherry', 'banana', 'apple']\n"
     ]
    }
   ],
   "source": [
    "#Reverse the order of the fruit list:   reverse()\n",
    "fruits = ['apple', 'banana', 'cherry']\n",
    "\n",
    "fruits.reverse() \n",
    "print(fruits)"
   ]
  },
  {
   "cell_type": "code",
   "execution_count": null,
   "id": "7e4a5150",
   "metadata": {},
   "outputs": [],
   "source": []
  }
 ],
 "metadata": {
  "kernelspec": {
   "display_name": "Python 3 (ipykernel)",
   "language": "python",
   "name": "python3"
  },
  "language_info": {
   "codemirror_mode": {
    "name": "ipython",
    "version": 3
   },
   "file_extension": ".py",
   "mimetype": "text/x-python",
   "name": "python",
   "nbconvert_exporter": "python",
   "pygments_lexer": "ipython3",
   "version": "3.9.7"
  }
 },
 "nbformat": 4,
 "nbformat_minor": 5
}
