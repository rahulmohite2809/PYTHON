{
 "cells": [
  {
   "cell_type": "markdown",
   "id": "23e64030",
   "metadata": {},
   "source": [
    "# Python operators\n",
    "   "
   ]
  },
  {
   "cell_type": "markdown",
   "id": "6992ebf6",
   "metadata": {},
   "source": [
    "    \n",
    "    Arithmetic operators\n",
    "    Assignment operators\n",
    "    Comparison operators\n",
    "    Logical operators\n",
    "    Identity operators\n",
    "    Membership operators\n",
    "    Bitwise operators"
   ]
  },
  {
   "cell_type": "markdown",
   "id": "c408c2a6",
   "metadata": {},
   "source": [
    "Arithmetic operators:"
   ]
  },
  {
   "cell_type": "raw",
   "id": "cdca8ab8",
   "metadata": {},
   "source": [
    "\n",
    "\n",
    "Operator Name       \tExample \t\n",
    "+ \t     Addition \t    x + y \t\n",
    "- \t     Subtraction \tx - y \t\n",
    "* \t     Multiplication \tx * y \t\n",
    "/ \t     Division \t    x / y \t\n",
    "% \t     Modulus \t    x % y \t\n",
    "**     \tExponentiation \tx ** y \t\n",
    "//  \tFloor division \tx // y"
   ]
  },
  {
   "cell_type": "markdown",
   "id": "a601acdf",
   "metadata": {},
   "source": [
    " Assignment operators:"
   ]
  },
  {
   "cell_type": "raw",
   "id": "fbb32ce9",
   "metadata": {},
   "source": [
    "Operator \tExample \tSame As \t\n",
    "   = \t    x = 5 \t     x = 5 \t\n",
    "   +=     \tx += 3 \t     x = x + 3 \t\n",
    "   -=     \tx -= 3 \t     x = x - 3 \t\n",
    "   *=     \tx *= 3 \t     x = x * 3 \t\n",
    "   /=     \tx /= 3 \t     x = x / 3 \t\n",
    "   %=     \tx %= 3 \t     x = x % 3 \t\n",
    "   //=     \tx //= 3      x = x // 3 \t\n",
    "   **=     \tx **= 3      x = x ** 3 \t\n",
    "   &=     \tx &= 3 \t     x = x & 3 \t\n",
    "   |=     \tx |= 3 \t     x = x | 3 \t\n",
    "   ^=     \tx ^= 3 \t     x = x ^ 3 \t\n",
    "   >>=     \tx >>= 3      x = x >> 3 \t\n",
    "   <<=     \tx <<= 3      x = x << 3"
   ]
  },
  {
   "cell_type": "markdown",
   "id": "aa0e502e",
   "metadata": {},
   "source": [
    "# Comparison operators"
   ]
  },
  {
   "cell_type": "raw",
   "id": "5d046dfb",
   "metadata": {},
   "source": [
    "Operator \tName \t                    Example \t              \n",
    "  ==     \tEqual      \t                x == y \t\n",
    "  !=     \tNot equal \t                x != y \t\n",
    "  > \t    Greater than                x > y \t\n",
    "  < \t    Less than \t                x < y \t\n",
    "  >=     \tGreater than or equal to \tx >= y \t\n",
    "  <=     \tLess than or equal to \t    x <= y"
   ]
  },
  {
   "cell_type": "markdown",
   "id": "9ae06966",
   "metadata": {},
   "source": [
    "# Logical operators"
   ]
  },
  {
   "cell_type": "raw",
   "id": "b5d61be4",
   "metadata": {},
   "source": [
    "Operator \tDescription \t                                               Example \t\n",
    "  and  \t    Returns True if both statements are true \t              x < 5 and  x < 10 \t\n",
    "  or \t    Returns True if one of the statements is true \t          x < 5 or x < 4 \t\n",
    "  not \t    Reverse the result, returns False if the result is true not(x < 5 and x < 10)"
   ]
  },
  {
   "cell_type": "markdown",
   "id": "0430d58d",
   "metadata": {},
   "source": [
    "# Identity Operators"
   ]
  },
  {
   "cell_type": "raw",
   "id": "14c365b4",
   "metadata": {},
   "source": [
    "Operator \t                       Description \t                            Example \t\n",
    "  is  \t       Returns True if both variables are the same object \t         x is y \t\n",
    " is not \t   Returns True if both variables are not the same object \t    x is not y"
   ]
  },
  {
   "cell_type": "markdown",
   "id": "37da738b",
   "metadata": {},
   "source": [
    "# Membership Operators"
   ]
  },
  {
   "cell_type": "raw",
   "id": "ec8fe416",
   "metadata": {},
   "source": [
    "  Operator \t                 Description \t                                                  Example \t\n",
    "    in  \tReturns True if a sequence with the specified value is present in the object \t  x in y \t\n",
    "   not in \tReturns True if a sequence with the specified value is not present in the object x not in y"
   ]
  },
  {
   "cell_type": "markdown",
   "id": "6dd39e4b",
   "metadata": {},
   "source": [
    "# Python Bitwise Operators"
   ]
  },
  {
   "cell_type": "raw",
   "id": "fb255917",
   "metadata": {},
   "source": [
    "Operator \tName \tDescription\n",
    "&        \tAND \tSets each bit to 1 if both bits are 1\n",
    "|        \tOR \tSets each bit to 1 if one of two bits is 1\n",
    " ^ \t        XOR \tSets each bit to 1 if only one of two bits is 1\n",
    "~        \tNOT \tInverts all the bits\n",
    "<< \t        Zero fill left shift \tShift left by pushing zeros in from the right and let the leftmost bits fall off\n",
    ">>       \tSigned right shift \tShift right by pushing copies of the leftmost bit in from the left, and let the         rightmost bits fall off\n",
    "         "
   ]
  },
  {
   "cell_type": "code",
   "execution_count": null,
   "id": "1eee0a61",
   "metadata": {},
   "outputs": [],
   "source": []
  }
 ],
 "metadata": {
  "kernelspec": {
   "display_name": "Python 3 (ipykernel)",
   "language": "python",
   "name": "python3"
  },
  "language_info": {
   "codemirror_mode": {
    "name": "ipython",
    "version": 3
   },
   "file_extension": ".py",
   "mimetype": "text/x-python",
   "name": "python",
   "nbconvert_exporter": "python",
   "pygments_lexer": "ipython3",
   "version": "3.9.7"
  }
 },
 "nbformat": 4,
 "nbformat_minor": 5
}
