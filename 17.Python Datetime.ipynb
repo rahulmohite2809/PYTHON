{
 "cells": [
  {
   "cell_type": "markdown",
   "id": "78d7d8e6",
   "metadata": {},
   "source": [
    "# Python datetime\n"
   ]
  },
  {
   "cell_type": "code",
   "execution_count": 8,
   "id": "cbb10327",
   "metadata": {},
   "outputs": [
    {
     "name": "stdout",
     "output_type": "stream",
     "text": [
      "2021-12-03 12:53:08.942516\n",
      "2021\n",
      "3\n"
     ]
    }
   ],
   "source": [
    "import datetime\n",
    "\n",
    "x= datetime.datetime.now()\n",
    "print(x)\n",
    "print(x.year)\n",
    "print(x.day)\n"
   ]
  },
  {
   "cell_type": "markdown",
   "id": "dc6a34c4",
   "metadata": {},
   "source": [
    "#Create a date object:\n",
    "import datetime\n",
    "\n",
    "x = datetime.datetime(2020, 1, 17 ,12,32,54)\n",
    "\n",
    "print(x) "
   ]
  },
  {
   "cell_type": "markdown",
   "id": "b095c279",
   "metadata": {},
   "source": [
    "The strftime() Method\n",
    "\n",
    "The datetime object has a method for formatting date objects into readable strings.\n",
    "\n",
    "The method is called strftime(), and takes one parameter, format, to specify the format of the returned string"
   ]
  },
  {
   "cell_type": "code",
   "execution_count": 15,
   "id": "c9ee7d4b",
   "metadata": {},
   "outputs": [
    {
     "name": "stdout",
     "output_type": "stream",
     "text": [
      "June\n"
     ]
    }
   ],
   "source": [
    "import datetime\n",
    "\n",
    "x = datetime.datetime(2018, 6, 1)\n",
    "\n",
    "print(x.strftime(\"%B\")) "
   ]
  },
  {
   "cell_type": "raw",
   "id": "4fe0c800",
   "metadata": {},
   "source": [
    "Directive \tDescription \tExample  \n",
    "%a \tWeekday, short version \tWed \t\n",
    "%A \tWeekday, full version \tWednesday \t\n",
    "%w \tWeekday as a number 0-6, 0 is Sunday \t\t\n",
    "%d \tDay of month 01-31 \t31 \t\n",
    "%b \tMonth name, short version \tDec \t\n",
    "%B \tMonth name, full version \tDecember \t\n",
    "%m \tMonth as a number 01-12 \t12 \t\n",
    "%y \tYear, short version, without century \t\n",
    "%Y \tYear, full version \t2018 \t\n",
    "%H \tHour 00-23 \t17 \t\n",
    "%I \tHour 00-12 \t05 \t\n",
    "%p \tAM/PM \tPM \t\n",
    "%M \tMinute 00-59 \t41 \t\n",
    "%S \tSecond 00-59 \t08 \t\n",
    "%f \tMicrosecond 000000-999999 \t548513 \t\n",
    "%z \tUTC offset \t+0100 \t\n",
    "%Z \tTimezone \tCST \t\n",
    "%j \tDay number of year 001-366 \t365 \t\n",
    "%U \tWeek number of year, Sunday as the first day of week, 00-53 \t\n",
    "%W \tWeek number of year, Monday as the first day of week, 00-53 \t\n",
    "%c \tLocal version of date and time \tMon Dec 31 17:41:00 2018 \t\n",
    "%C \tCentury \t20 \t\n",
    "%x \tLocal version of date \t12/31/18 \t\n",
    "%X \tLocal version of time \t17:41:00 \t\n",
    "%% \tA % character \t% \t\n",
    "%G \tISO 8601 year \t2018 \t\n",
    "%u \tISO 8601 weekday (1-7) \t1 \t\n",
    "%V \tISO 8601 weeknumber (01-53) \t01"
   ]
  }
 ],
 "metadata": {
  "kernelspec": {
   "display_name": "Python 3 (ipykernel)",
   "language": "python",
   "name": "python3"
  },
  "language_info": {
   "codemirror_mode": {
    "name": "ipython",
    "version": 3
   },
   "file_extension": ".py",
   "mimetype": "text/x-python",
   "name": "python",
   "nbconvert_exporter": "python",
   "pygments_lexer": "ipython3",
   "version": "3.9.7"
  }
 },
 "nbformat": 4,
 "nbformat_minor": 5
}
