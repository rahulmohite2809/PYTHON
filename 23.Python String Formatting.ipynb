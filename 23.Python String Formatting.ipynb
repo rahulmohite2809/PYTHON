{
 "cells": [
  {
   "cell_type": "markdown",
   "id": "b911a4d4",
   "metadata": {},
   "source": [
    "# String format()\n"
   ]
  },
  {
   "cell_type": "markdown",
   "id": "68cd34cf",
   "metadata": {},
   "source": [
    "\n",
    "The format() method allows you to format selected parts of a string."
   ]
  },
  {
   "cell_type": "code",
   "execution_count": 1,
   "id": "7269d7f5",
   "metadata": {},
   "outputs": [
    {
     "name": "stdout",
     "output_type": "stream",
     "text": [
      "The price is 49 dollars\n"
     ]
    }
   ],
   "source": [
    "#Add a placeholder where you want to display the price:\n",
    "price = 49\n",
    "txt = \"The price is {} dollars\"\n",
    "print(txt.format(price))"
   ]
  },
  {
   "cell_type": "code",
   "execution_count": 2,
   "id": "b2874726",
   "metadata": {},
   "outputs": [
    {
     "name": "stdout",
     "output_type": "stream",
     "text": [
      "i am tanmay ,from pune\n"
     ]
    }
   ],
   "source": [
    "name= \"tanmay\"\n",
    "statment=\"i am {} ,from pune\"\n",
    "print(statment.format(name))"
   ]
  },
  {
   "cell_type": "code",
   "execution_count": 5,
   "id": "07f8b26e",
   "metadata": {},
   "outputs": [
    {
     "name": "stdout",
     "output_type": "stream",
     "text": [
      "The price is 65.00 dollars\n"
     ]
    }
   ],
   "source": [
    "#Format the price to be displayed as a number with two decimals:\n",
    "txt = \"The price is {:.2f} dollars\"\n",
    "no =65\n",
    "print(txt.format(no))"
   ]
  },
  {
   "cell_type": "code",
   "execution_count": 6,
   "id": "5d18db2e",
   "metadata": {},
   "outputs": [
    {
     "name": "stdout",
     "output_type": "stream",
     "text": [
      "I want 3 pieces of item number 567 for 49.00 dollars.\n"
     ]
    }
   ],
   "source": [
    "#muliple \n",
    "\n",
    "quantity = 3\n",
    "itemno = 567\n",
    "price = 49\n",
    "myorder = \"I want {} pieces of item number {} for {:.2f} dollars.\"\n",
    "print(myorder.format(quantity, itemno, price))\n"
   ]
  },
  {
   "cell_type": "markdown",
   "id": "1424aae3",
   "metadata": {},
   "source": [
    "Named Indexes:\n",
    "we can also able to excess using the indexes\n"
   ]
  },
  {
   "cell_type": "code",
   "execution_count": 8,
   "id": "e1ffcebb",
   "metadata": {},
   "outputs": [
    {
     "name": "stdout",
     "output_type": "stream",
     "text": [
      "I have a audi, it is a Mustangtype of car is Ford.\n"
     ]
    }
   ],
   "source": [
    "myorder = \"I have a {car}, it is a {model}type of car is {carname}.\"\n",
    "print(myorder.format(carname = \"Ford\", model = \"Mustang\", car= \"audi\"))"
   ]
  },
  {
   "cell_type": "code",
   "execution_count": null,
   "id": "2594c1a5",
   "metadata": {},
   "outputs": [],
   "source": []
  }
 ],
 "metadata": {
  "kernelspec": {
   "display_name": "Python 3 (ipykernel)",
   "language": "python",
   "name": "python3"
  },
  "language_info": {
   "codemirror_mode": {
    "name": "ipython",
    "version": 3
   },
   "file_extension": ".py",
   "mimetype": "text/x-python",
   "name": "python",
   "nbconvert_exporter": "python",
   "pygments_lexer": "ipython3",
   "version": "3.9.7"
  }
 },
 "nbformat": 4,
 "nbformat_minor": 5
}
