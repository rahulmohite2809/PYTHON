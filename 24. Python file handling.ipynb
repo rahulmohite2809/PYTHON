{
 "cells": [
  {
   "cell_type": "markdown",
   "id": "76c5e62a",
   "metadata": {},
   "source": [
    "# Python File Open"
   ]
  },
  {
   "cell_type": "markdown",
   "id": "1bef371f",
   "metadata": {},
   "source": [
    "\n",
    "\n",
    "\"r\" - Read - Default value. Opens a file for reading, error if the file does not exist\n",
    "\n",
    "\"a\" - Append - Opens a file for appending, creates the file if it does not exist\n",
    "\n",
    "\"w\" - Write - Opens a file for writing, creates the file if it does not exist\n",
    "\n",
    "\"x\" - Create - Creates the specified file, returns an error if the file exists\n",
    "\n",
    "\"t\" - Text - Default value. Text mode\n",
    "\n",
    "\"b\" - Binary - Binary mode (e.g. images)\n"
   ]
  },
  {
   "cell_type": "code",
   "execution_count": 1,
   "id": "078ed4df",
   "metadata": {},
   "outputs": [],
   "source": [
    "f = open(\"rahul.txt\",\"rt\")\n"
   ]
  },
  {
   "cell_type": "markdown",
   "id": "56b51e01",
   "metadata": {},
   "source": [
    "Open a File on the Server"
   ]
  },
  {
   "cell_type": "code",
   "execution_count": 2,
   "id": "9e5ed775",
   "metadata": {},
   "outputs": [
    {
     "name": "stdout",
     "output_type": "stream",
     "text": [
      "Hello! Welcome to demofile.txt\n",
      "This file is for testing purposes.\n",
      "Good Luck!\n",
      "\n"
     ]
    }
   ],
   "source": [
    "print(f.read())"
   ]
  },
  {
   "cell_type": "code",
   "execution_count": 3,
   "id": "e1b38306",
   "metadata": {},
   "outputs": [
    {
     "name": "stdout",
     "output_type": "stream",
     "text": [
      "Hello\n"
     ]
    }
   ],
   "source": [
    "#  read only few part :\n",
    "f = open(\"rahul.txt\",\"r\")\n",
    "print(f.read(5))"
   ]
  },
  {
   "cell_type": "code",
   "execution_count": 4,
   "id": "c8d003fe",
   "metadata": {},
   "outputs": [
    {
     "name": "stdout",
     "output_type": "stream",
     "text": [
      "Hello! Welcome to demofile.txt\n",
      "\n"
     ]
    }
   ],
   "source": [
    "#read oneline\n",
    "\n",
    "f= open(\"rahul.txt\",\"r\")\n",
    "print(f.readline())"
   ]
  },
  {
   "cell_type": "code",
   "execution_count": 6,
   "id": "a060f773",
   "metadata": {},
   "outputs": [
    {
     "name": "stdout",
     "output_type": "stream",
     "text": [
      "Hello! Welcome to demofile.txt\n",
      "\n",
      "This file is for testing purposes.\n",
      "\n"
     ]
    }
   ],
   "source": [
    "#read two lines\n",
    "f=open(\"rahul.txt\",\"r\")\n",
    "print(f.readline())\n",
    "print(f.readline())"
   ]
  },
  {
   "cell_type": "code",
   "execution_count": 5,
   "id": "adc9d1cc",
   "metadata": {},
   "outputs": [
    {
     "name": "stdout",
     "output_type": "stream",
     "text": [
      "Hello! Welcome to demofile.txt\n",
      "\n"
     ]
    }
   ],
   "source": [
    "f = open(\"rahul.txt\", \"r\")\n",
    "print(f.readline())\n",
    "f.close() "
   ]
  },
  {
   "cell_type": "markdown",
   "id": "5b298d95",
   "metadata": {},
   "source": [
    "# Python File Write"
   ]
  },
  {
   "cell_type": "markdown",
   "id": "491430e1",
   "metadata": {},
   "source": [
    "\"a\" - Append - will append to the end of the file\n",
    "\n",
    "\"w\" - Write - will overwrite any existing content"
   ]
  },
  {
   "cell_type": "code",
   "execution_count": 7,
   "id": "58cc864d",
   "metadata": {},
   "outputs": [],
   "source": [
    "f = open(\"rahul.txt\", \"a\")\n",
    "f.write(\"this is newly added text\")\n",
    "f.close()"
   ]
  },
  {
   "cell_type": "code",
   "execution_count": 8,
   "id": "db006176",
   "metadata": {},
   "outputs": [
    {
     "name": "stdout",
     "output_type": "stream",
     "text": [
      "Hello! Welcome to demofile.txt\n",
      "This file is for testing purposes.\n",
      "Good Luck!\n",
      "this is newly added textthis is newly added text\n"
     ]
    }
   ],
   "source": [
    "f = open(\"rahul.txt\", \"r\")\n",
    "print(f.read()) "
   ]
  },
  {
   "cell_type": "markdown",
   "id": "64ba3409",
   "metadata": {},
   "source": [
    "Create a New File:\n",
    "\n",
    "To create a new file in Python, use the open() method, with one of the following parameters:\n",
    "\n",
    "\"x\" - Create - will create a file, returns an error if the file exist\n",
    "\n",
    "\"a\" - Append - will create a file if the specified file does not exist\n",
    "\n",
    "\"w\" - Write - will create a file if the specified file does not exist"
   ]
  },
  {
   "cell_type": "code",
   "execution_count": 9,
   "id": "31bedb22",
   "metadata": {},
   "outputs": [],
   "source": [
    "f = open(\"myfile.txt\", \"x\")"
   ]
  },
  {
   "cell_type": "code",
   "execution_count": 11,
   "id": "f55a1ebd",
   "metadata": {},
   "outputs": [],
   "source": [
    "f = open(\"myfile.txt\", \"w\")"
   ]
  },
  {
   "cell_type": "markdown",
   "id": "6732c327",
   "metadata": {},
   "source": [
    "# Delete a File"
   ]
  },
  {
   "cell_type": "code",
   "execution_count": 21,
   "id": "e1599e6c",
   "metadata": {},
   "outputs": [],
   "source": [
    "import os\n",
    "#os.remove(\"rahul.txt\") "
   ]
  },
  {
   "cell_type": "code",
   "execution_count": 14,
   "id": "5d8f8d03",
   "metadata": {},
   "outputs": [
    {
     "name": "stdout",
     "output_type": "stream",
     "text": [
      "The file does not exist\n"
     ]
    }
   ],
   "source": [
    "#Check if file exists, then delete it:\n",
    "import os\n",
    "if os.path.exists(\"rahul.txt\"):\n",
    "  os.remove(\"rahul.txt\")\n",
    "else:\n",
    "  print(\"The file does not exist\") "
   ]
  },
  {
   "cell_type": "code",
   "execution_count": 20,
   "id": "c24552b9",
   "metadata": {},
   "outputs": [],
   "source": [
    "#delete the folder\n",
    "\n",
    "import os\n",
    "#os.rmdir(\"myfile.txt\") "
   ]
  },
  {
   "cell_type": "code",
   "execution_count": null,
   "id": "4c74ca44",
   "metadata": {},
   "outputs": [],
   "source": []
  }
 ],
 "metadata": {
  "kernelspec": {
   "display_name": "Python 3 (ipykernel)",
   "language": "python",
   "name": "python3"
  },
  "language_info": {
   "codemirror_mode": {
    "name": "ipython",
    "version": 3
   },
   "file_extension": ".py",
   "mimetype": "text/x-python",
   "name": "python",
   "nbconvert_exporter": "python",
   "pygments_lexer": "ipython3",
   "version": "3.9.7"
  }
 },
 "nbformat": 4,
 "nbformat_minor": 5
}
