{
 "cells": [
  {
   "cell_type": "markdown",
   "id": "56782452",
   "metadata": {},
   "source": [
    "# Python Math"
   ]
  },
  {
   "cell_type": "code",
   "execution_count": 1,
   "id": "e239e31f",
   "metadata": {},
   "outputs": [
    {
     "name": "stdout",
     "output_type": "stream",
     "text": [
      "5\n",
      "25\n"
     ]
    }
   ],
   "source": [
    "#Built-in Math Functions\n",
    "\n",
    "#The min() and max() functions can be used to find the lowest or highest value in an iterable min(),max()\n",
    "#Example\n",
    "x = min(5, 10, 25)\n",
    "y = max(5, 10, 25)\n",
    "\n",
    "print(x)\n",
    "print(y) "
   ]
  },
  {
   "cell_type": "code",
   "execution_count": 2,
   "id": "6f353b89",
   "metadata": {},
   "outputs": [
    {
     "name": "stdout",
     "output_type": "stream",
     "text": [
      "7.25\n"
     ]
    }
   ],
   "source": [
    "#The abs() function returns the absolute (positive) value of the specified number: abs()\n",
    "#Example\n",
    "x = abs(-7.25)\n",
    "\n",
    "print(x) "
   ]
  },
  {
   "cell_type": "code",
   "execution_count": 4,
   "id": "5204f7d4",
   "metadata": {},
   "outputs": [
    {
     "name": "stdout",
     "output_type": "stream",
     "text": [
      "64\n"
     ]
    }
   ],
   "source": [
    "#Return the value of 4 to the power of 3 (same as 4 * 4 * 4): pow()\n",
    "x = pow(4, 3)\n",
    "\n",
    "print(x) "
   ]
  },
  {
   "cell_type": "markdown",
   "id": "e441f757",
   "metadata": {},
   "source": [
    "The Math Module"
   ]
  },
  {
   "cell_type": "code",
   "execution_count": 8,
   "id": "e8fc56e9",
   "metadata": {},
   "outputs": [
    {
     "name": "stdout",
     "output_type": "stream",
     "text": [
      "9.0\n"
     ]
    }
   ],
   "source": [
    "#When you have imported the math module, you can start using methods and constants of the module.\n",
    "\n",
    "#The math.sqrt() method for example, returns the square root of a number:  math.sqrt()\n",
    "\n",
    "import  math\n",
    "x=math.sqrt(81)\n",
    "print(x)"
   ]
  },
  {
   "cell_type": "code",
   "execution_count": 12,
   "id": "533af092",
   "metadata": {},
   "outputs": [
    {
     "name": "stdout",
     "output_type": "stream",
     "text": [
      "2\n",
      "5\n"
     ]
    }
   ],
   "source": [
    "#The math.ceil() method rounds a number upwards to its nearest integer, and the math.floor() method rounds a number downwards to its nearest integer, and returns the result:\n",
    "\n",
    "import math\n",
    "\n",
    "x = math.ceil(1.4)\n",
    "y = math.floor(5.4)\n",
    "\n",
    "print(x) \n",
    "print(y) "
   ]
  },
  {
   "cell_type": "code",
   "execution_count": 14,
   "id": "5f7067a2",
   "metadata": {},
   "outputs": [
    {
     "name": "stdout",
     "output_type": "stream",
     "text": [
      "3.141592653589793\n"
     ]
    }
   ],
   "source": [
    "#The math.pi constant, returns the value of PI (3.14...): pi=3.14\n",
    "\n",
    "import math\n",
    "\n",
    "x = math.pi\n",
    "\n",
    "print(x) "
   ]
  },
  {
   "cell_type": "code",
   "execution_count": null,
   "id": "dee9d188",
   "metadata": {},
   "outputs": [],
   "source": []
  }
 ],
 "metadata": {
  "kernelspec": {
   "display_name": "Python 3 (ipykernel)",
   "language": "python",
   "name": "python3"
  },
  "language_info": {
   "codemirror_mode": {
    "name": "ipython",
    "version": 3
   },
   "file_extension": ".py",
   "mimetype": "text/x-python",
   "name": "python",
   "nbconvert_exporter": "python",
   "pygments_lexer": "ipython3",
   "version": "3.9.7"
  }
 },
 "nbformat": 4,
 "nbformat_minor": 5
}
